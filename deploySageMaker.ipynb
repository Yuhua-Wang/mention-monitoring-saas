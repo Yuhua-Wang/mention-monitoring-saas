{
 "cells": [
  {
   "cell_type": "code",
   "execution_count": null,
   "metadata": {},
   "outputs": [],
   "source": [
    "from sagemaker.huggingface import HuggingFaceModel\n",
    "import sagemaker\n",
    "\n",
    "role = sagemaker.get_execution_role()\n",
    "# Hub Model configuration. https://huggingface.co/models\n",
    "hub_sentiment = {\n",
    "    'HF_MODEL_ID': 'cardiffnlp/twitter-xlm-roberta-base-sentiment',\n",
    "    'HF_TASK': 'text-classification'\n",
    "}\n",
    "\n",
    "# create Hugging Face Model Class\n",
    "huggingface_model_sentiment = HuggingFaceModel(\n",
    "    transformers_version='4.17.0',\n",
    "    pytorch_version='1.10.2',\n",
    "    py_version='py38',\n",
    "    e\n",
    "    # deploy model to SageMaker Inference\n",
    "    predictor_sentiment=huggingface_model_sentiment.deploy(\n",
    "        initial_instance_count=1,  # number of instances\n",
    "        instance_type='ml.m5.xlarge',  # ec2 instance type\n",
    "        endpoint_name='sentiment-analysis'\n",
    "    )\n",
    "\n",
    "    hub_summary={\n",
    "        'HF_MODEL_ID': 'philschmid/flan-t5-base-samsum',\n",
    "        'HF_TASK': 'text2text-generation'\n",
    "    }\n",
    "\n",
    "    # create Hugging Face Model Class\n",
    "    huggingface_model_summary=HuggingFaceModel(\n",
    "        transformers_version='4.17.0',\n",
    "        pytorch_version='1.10.2',\n",
    "        py_version='py38',\n",
    "        env=hub_summary,\n",
    "        role=role,\n",
    "    )\n",
    "\n",
    "    # deploy model to SageMaker Inference\n",
    "    predictor_summary=huggingface_model_summary.deploy(\n",
    "        initial_instance_count=1,  # number of instances\n",
    "        instance_type='ml.m5.xlarge',  # ec2 instance type\n",
    "        endpoint_name='summary-generation'\n",
    "    )nv=hub_sentiment,\n",
    "    role=role,\n",
    ")"
   ]
  },
  {
   "cell_type": "code",
   "execution_count": null,
   "metadata": {},
   "outputs": [],
   "source": [
    "predictor_summary.predict({\n",
    "\t'inputs': \"\"\"Jeff: Can I train a 🤗 Transformers model on Amazon SageMaker? \n",
    "Philipp: Sure you can use the new Hugging Face Deep Learning Container. \n",
    "Jeff: ok.\n",
    "Jeff: and how can I get started? \n",
    "Jeff: where can I find documentation? \n",
    "Philipp: ok, ok you can find everything here. https://huggingface.co/blog/the-partnership-amazon-sagemaker-and-hugging-face\"\"\"\n",
    "})"
   ]
  },
  {
   "cell_type": "code",
   "execution_count": null,
   "metadata": {},
   "outputs": [],
   "source": [
    "predictor_sentiment.predict({\n",
    "\t'inputs': \"I like you. I love you\"\n",
    "})"
   ]
  },
  {
   "cell_type": "code",
   "execution_count": null,
   "metadata": {},
   "outputs": [],
   "source": [
    "predictor_summary.delete_endpoint()\n",
    "predictor_sentiment.delete_endpoint()"
   ]
  }
 ],
 "metadata": {
  "language_info": {
   "name": "python"
  },
  "orig_nbformat": 4
 },
 "nbformat": 4,
 "nbformat_minor": 2
}
